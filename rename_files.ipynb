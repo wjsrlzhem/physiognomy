{
  "nbformat": 4,
  "nbformat_minor": 0,
  "metadata": {
    "colab": {
      "name": "rename_files.ipynb",
      "provenance": [],
      "collapsed_sections": [],
      "mount_file_id": "18j8x2VMZM27LxKhSJhnzxh5QBGuLT8G-",
      "authorship_tag": "ABX9TyOeHdmeY1XLtakNMH1DtjPb",
      "include_colab_link": true
    },
    "kernelspec": {
      "name": "python3",
      "display_name": "Python 3"
    },
    "language_info": {
      "name": "python"
    }
  },
  "cells": [
    {
      "cell_type": "markdown",
      "metadata": {
        "id": "view-in-github",
        "colab_type": "text"
      },
      "source": [
        "<a href=\"https://colab.research.google.com/github/wjsrlzhem/physiognomy/blob/main/rename_files.ipynb\" target=\"_parent\"><img src=\"https://colab.research.google.com/assets/colab-badge.svg\" alt=\"Open In Colab\"/></a>"
      ]
    },
    {
      "cell_type": "code",
      "source": [
        "import os\n",
        "import glob"
      ],
      "metadata": {
        "id": "i8eCYnBaUCXH"
      },
      "execution_count": 12,
      "outputs": []
    },
    {
      "cell_type": "code",
      "source": [
        "path = '/content/drive/MyDrive/practice/physiognomy/test_train'\n",
        "files = glob.glob(path + '/*')\n",
        "\n",
        "for i,f in enumerate(files):\n",
        "  os.rename(f,os.path.join(path,'{0:03d}'.format(i)+'_suzy'))"
      ],
      "metadata": {
        "id": "xfW0JBqdpAO9"
      },
      "execution_count": 13,
      "outputs": []
    }
  ]
}