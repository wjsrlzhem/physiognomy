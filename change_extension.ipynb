{
  "nbformat": 4,
  "nbformat_minor": 0,
  "metadata": {
    "colab": {
      "name": "change_extension.ipynb",
      "provenance": [],
      "collapsed_sections": [],
      "mount_file_id": "1gJPvSmljuTamYSlCqs1UTjtM09LOGitH",
      "authorship_tag": "ABX9TyMS6tNT3pKtpea3BLkHS0zU",
      "include_colab_link": true
    },
    "kernelspec": {
      "name": "python3",
      "display_name": "Python 3"
    },
    "language_info": {
      "name": "python"
    }
  },
  "cells": [
    {
      "cell_type": "markdown",
      "metadata": {
        "id": "view-in-github",
        "colab_type": "text"
      },
      "source": [
        "<a href=\"https://colab.research.google.com/github/wjsrlzhem/physiognomy/blob/main/change_extension.ipynb\" target=\"_parent\"><img src=\"https://colab.research.google.com/assets/colab-badge.svg\" alt=\"Open In Colab\"/></a>"
      ]
    },
    {
      "cell_type": "code",
      "source": [
        "from sklearn.model_selection import train_test_split\n",
        "from PIL import Image\n",
        "import glob"
      ],
      "metadata": {
        "id": "RU2JPcDnrQuy"
      },
      "execution_count": 3,
      "outputs": []
    },
    {
      "cell_type": "code",
      "source": [
        "path = '/content/drive/MyDrive/practice/physiognomy/test_train'\n",
        "files = glob.glob(path+ '/*')\n",
        "\n",
        "\n",
        "for f in files:\n",
        "  if f[-3:] != 'png':\n",
        "    im = Image.open(f).convert('RGB')\n",
        "    im.save(f[:-4]+'.png','png')"
      ],
      "metadata": {
        "id": "Ukcg3zCJsRkD"
      },
      "execution_count": 16,
      "outputs": []
    }
  ]
}